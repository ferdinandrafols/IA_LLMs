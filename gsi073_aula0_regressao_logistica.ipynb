{
  "nbformat": 4,
  "nbformat_minor": 0,
  "metadata": {
    "colab": {
      "private_outputs": true,
      "provenance": [],
      "include_colab_link": true
    },
    "kernelspec": {
      "name": "python3",
      "display_name": "Python 3"
    },
    "language_info": {
      "name": "python"
    }
  },
  "cells": [
    {
      "cell_type": "markdown",
      "metadata": {
        "id": "view-in-github",
        "colab_type": "text"
      },
      "source": [
        "<a href=\"https://colab.research.google.com/github/ferdinandrafols/IA_LLMs/blob/main/gsi073_aula0_regressao_logistica.ipynb\" target=\"_parent\"><img src=\"https://colab.research.google.com/assets/colab-badge.svg\" alt=\"Open In Colab\"/></a>"
      ]
    },
    {
      "cell_type": "markdown",
      "source": [
        "# GSI073 - Tópicos Especiais de Inteligência Artificial\n",
        "\n",
        "## Definição dos dados"
      ],
      "metadata": {
        "id": "Mwsc0ViVertv"
      }
    },
    {
      "cell_type": "code",
      "execution_count": null,
      "metadata": {
        "id": "OmZxMYLGefOh"
      },
      "outputs": [],
      "source": [
        "import torch\n",
        "import sklearn\n",
        "\n",
        "# 1. Carregar dados\n",
        "iris = sklearn.datasets.load_iris()\n",
        "X = iris.data        # 4 features: sépalas e pétalas\n",
        "y = (iris.target == 1).astype(float)  # 1 se Versicolor, 0 caso contrário\n",
        "\n",
        "# 2. Preparar dados para pytorch\n",
        "X = torch.tensor(X, dtype=torch.float32)\n",
        "y = torch.tensor(y, dtype=torch.float32).view(-1, 1)\n",
        "\n",
        "# 👇 Adicionando prints para visualizar\n",
        "print(\"Shape de X:\", X.shape)\n",
        "print(\"Primeiras 5 linhas de X:\\n\", X[:5])\n",
        "\n",
        "print(\"Shape de y:\", y.shape)\n",
        "print(\"Primeiras 5 linhas de y:\\n\", y[:5])\n"
      ]
    },
    {
      "cell_type": "markdown",
      "source": [
        "Excelente pergunta 👌 — **sim**, o resultado que você obteve está **correto e bom** ✅\n",
        "\n",
        "Vamos justificar por partes 👇\n",
        "\n",
        "---\n",
        "\n",
        "## 🧠 **1. Estrutura dos dados**\n",
        "\n",
        "📊 **`X` com shape `(150, 4)`** → **perfeito**.\n",
        "\n",
        "* O dataset Iris tem exatamente **150 amostras**\n",
        "* e **4 características** (sépalas e pétalas).\n",
        "  ✅ Isso significa que você converteu os dados corretamente para tensor PyTorch.\n",
        "\n",
        "📌 Se tivesse dado errado, você veria:\n",
        "\n",
        "* `X` com shape diferente de `(150, 4)`\n",
        "* erro de tipo de dado\n",
        "* ou até erros no `torch.tensor(...)`.\n",
        "\n",
        "---\n",
        "\n",
        "## 🌿 **2. Estrutura dos rótulos `y`**\n",
        "\n",
        "📊 **`y` com shape `(150, 1)`** → **perfeito para classificação binária**.\n",
        "\n",
        "* Você converteu corretamente `iris.target` (0, 1, 2) em **binário (0 e 1)**.\n",
        "* Isso é exatamente o formato que funções de perda como\n",
        "\n",
        "  * `nn.BCEWithLogitsLoss()` ou\n",
        "  * `nn.BCELoss()`\n",
        "    esperam.\n",
        "\n",
        "✅ Isso significa que o modelo poderá aprender a **distinguir “Versicolor” (1)** de outras espécies (0).\n",
        "\n",
        "---\n",
        "\n",
        "## 🧮 **3. Valores das primeiras linhas de `y`**\n",
        "\n",
        "```\n",
        "[[0.],\n",
        " [0.],\n",
        " [0.],\n",
        " [0.],\n",
        " [0.]]\n",
        "```\n",
        "\n",
        "👉 Isso **também está correto**:\n",
        "\n",
        "* No dataset original, as **primeiras 50 flores** são da classe `0` (Setosa).\n",
        "* A classe `1` (Versicolor) só começa a aparecer da amostra 50 em diante.\n",
        "* Por isso os primeiros rótulos são todos `0.`.\n",
        "\n",
        "✅ Isso indica que a **transformação lógica `iris.target == 1` funcionou como esperado**.\n",
        "\n",
        "---\n",
        "\n",
        "## 🪄 **4. Tipos de dados**\n",
        "\n",
        "Você usou:\n",
        "\n",
        "```python\n",
        "dtype=torch.float32\n",
        "```\n",
        "\n",
        "✅ Isso é **o tipo padrão ideal para treinar redes neurais** —\n",
        "nem inteiro (`int`) nem double (`float64`), que é mais pesado.\n",
        "\n",
        "---\n",
        "\n",
        "## 📝 Conclusão Final\n",
        "\n",
        "| Item Verificado      | Resultado            | Situação  |\n",
        "| -------------------- | -------------------- | --------- |\n",
        "| Shape de X           | `(150, 4)`           | ✅ Correto |\n",
        "| Shape de y           | `(150, 1)`           | ✅ Correto |\n",
        "| Conversão para float | `float32`            | ✅ Correto |\n",
        "| Rótulos binários     | 0 ou 1               | ✅ Correto |\n",
        "| Primeiros rótulos 0  | coerente com dataset | ✅ Correto |\n",
        "\n",
        "✅ **Sim, o resultado foi bom.**\n",
        "Você tem agora **os dados prontos para treinar um modelo de classificação binária no PyTorch** — por exemplo, uma rede simples com uma ou duas camadas lineares.\n",
        "\n",
        "---\n",
        "\n",
        "👉 Próximos passos comuns seriam:\n",
        "\n",
        "* dividir em treino e teste,\n",
        "* definir um modelo (`nn.Sequential` ou `nn.Module`),\n",
        "* escolher função de perda (`BCEWithLogitsLoss`),\n",
        "* usar `SGD` ou `Adam` como otimizador,\n",
        "* e treinar.\n",
        "\n",
        "Se quiser, posso montar um **modelo PyTorch completo (forward + treino)** com esses dados para você ver na prática. Deseja isso? 🧠⚡📉\n"
      ],
      "metadata": {
        "id": "feWR-CX6X6cb"
      }
    },
    {
      "cell_type": "markdown",
      "source": [
        "## Definição do modelo e treinamento"
      ],
      "metadata": {
        "id": "nUv-LKlIe9Id"
      }
    },
    {
      "cell_type": "code",
      "source": [
        "# 3. Definir modelo: regressão logística\n",
        "modelo = torch.nn.Linear(4, 1)  # 4 features → 1 saída (probabilidade de ser Versicolor)\n",
        "\n",
        "# 4. Definir função de perda e algoritmo de otimização\n",
        "funcao_perda = torch.nn.BCEWithLogitsLoss()  # combinação de sigmoid + BCE\n",
        "optimizer = torch.optim.SGD(modelo.parameters(), lr=0.1)"
      ],
      "metadata": {
        "id": "eg97DxIbe0tV"
      },
      "execution_count": null,
      "outputs": []
    },
    {
      "cell_type": "markdown",
      "source": [
        "## Execução do treinamento"
      ],
      "metadata": {
        "id": "Agjn3aQxfHOO"
      }
    },
    {
      "cell_type": "code",
      "source": [
        "# 5. Treino\n",
        "for epoch in range(1000):\n",
        "    optimizer.zero_grad() # reseta gradiente senão acumula\n",
        "    outputs = modelo(X)\n",
        "    loss = funcao_perda(outputs, y)\n",
        "    loss.backward()\n",
        "    optimizer.step()\n",
        "\n",
        "    if (epoch + 1) % 10 == 0:\n",
        "        print(f\"Época [{epoch+1}/100], Loss: {loss.item():.4f}\")"
      ],
      "metadata": {
        "id": "uuksjyq7e4Mt"
      },
      "execution_count": null,
      "outputs": []
    }
  ]
}